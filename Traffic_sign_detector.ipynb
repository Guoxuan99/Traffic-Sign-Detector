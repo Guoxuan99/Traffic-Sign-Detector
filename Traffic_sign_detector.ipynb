{
 "cells": [
  {
   "cell_type": "code",
   "execution_count": 6,
   "id": "66bb37c1",
   "metadata": {},
   "outputs": [],
   "source": [
    "import numpy as np \n",
    "import pandas as pd \n",
    "import matplotlib.pyplot as plt\n",
    "import cv2\n",
    "import tensorflow as tf\n",
    "from PIL import Image\n",
    "import os\n",
    "from sklearn.model_selection import train_test_split\n",
    "from tensorflow.keras.utils import to_categorical\n",
    "from keras.models import Sequential, load_model\n",
    "from keras.layers import Conv2D, MaxPool2D, Dense, Flatten, Dropout"
   ]
  },
  {
   "cell_type": "markdown",
   "id": "accf96f6",
   "metadata": {},
   "source": [
    "# Retrieve training datasets"
   ]
  },
  {
   "cell_type": "code",
   "execution_count": 7,
   "id": "4918afd2",
   "metadata": {},
   "outputs": [],
   "source": [
    "data = []\n",
    "labels = []\n",
    "classes = 43\n",
    "cur_path = os.getcwd()\n",
    "#Retrieving the images and their labels \n",
    "for i in range(classes):\n",
    "    path = os.path.join(cur_path,'train',str(i))\n",
    "    images = os.listdir(path)\n",
    "    for a in images:\n",
    "        try:\n",
    "            image = Image.open(path + '\\\\'+ a)\n",
    "            image = image.resize((30,30))\n",
    "            image = np.array(image)\n",
    "            #sim = Image.fromarray(image)\n",
    "            data.append(image)\n",
    "            labels.append(i)\n",
    "        except:\n",
    "            print(\"Error loading image\")"
   ]
  },
  {
   "cell_type": "code",
   "execution_count": 9,
   "id": "d7d4d8d0",
   "metadata": {},
   "outputs": [
    {
     "name": "stdout",
     "output_type": "stream",
     "text": [
      "(78418, 30, 30, 3) (78418,)\n",
      "(62734, 30, 30, 3) (15684, 30, 30, 3) (62734,) (15684,)\n"
     ]
    }
   ],
   "source": [
    "#Converting lists into numpy arrays\n",
    "data = np.array(data)\n",
    "labels = np.array(labels)\n",
    "print(data.shape, labels.shape)\n",
    "\n",
    "#Splitting training and testing dataset\n",
    "X_train, X_test, y_train, y_test = train_test_split(data, labels, test_size=0.2, random_state=42)\n",
    "print(X_train.shape, X_test.shape, y_train.shape, y_test.shape)\n",
    "\n",
    "#Converting the labels into one hot encoding\n",
    "y_train = to_categorical(y_train, classes)\n",
    "y_test = to_categorical(y_test, classes)"
   ]
  },
  {
   "cell_type": "markdown",
   "id": "6da3d968",
   "metadata": {},
   "source": [
    "# Build Model"
   ]
  },
  {
   "cell_type": "code",
   "execution_count": 10,
   "id": "912008b3",
   "metadata": {},
   "outputs": [],
   "source": [
    "#Building the model\n",
    "model = Sequential()\n",
    "model.add(Conv2D(filters=32, kernel_size=(5,5), activation='relu', input_shape=X_train.shape[1:]))\n",
    "model.add(Conv2D(filters=32, kernel_size=(5,5), activation='relu'))\n",
    "model.add(MaxPool2D(pool_size=(2, 2)))\n",
    "model.add(Dropout(rate=0.25))\n",
    "model.add(Conv2D(filters=64, kernel_size=(3, 3), activation='relu'))\n",
    "model.add(Conv2D(filters=64, kernel_size=(3, 3), activation='relu'))\n",
    "model.add(MaxPool2D(pool_size=(2, 2)))\n",
    "model.add(Dropout(rate=0.25))\n",
    "model.add(Flatten())\n",
    "model.add(Dense(256, activation='relu'))\n",
    "model.add(Dropout(rate=0.5))\n",
    "model.add(Dense(classes, activation='softmax'))"
   ]
  },
  {
   "cell_type": "markdown",
   "id": "d1c52ebf",
   "metadata": {},
   "source": [
    "# Train Model"
   ]
  },
  {
   "cell_type": "code",
   "execution_count": 11,
   "id": "4238c79a",
   "metadata": {},
   "outputs": [
    {
     "name": "stdout",
     "output_type": "stream",
     "text": [
      "Epoch 1/15\n",
      "1961/1961 [==============================] - 231s 117ms/step - loss: 1.1844 - accuracy: 0.6768 - val_loss: 0.1912 - val_accuracy: 0.9493\n",
      "Epoch 2/15\n",
      "1961/1961 [==============================] - 242s 123ms/step - loss: 0.3271 - accuracy: 0.9047 - val_loss: 0.0770 - val_accuracy: 0.9788\n",
      "Epoch 3/15\n",
      "1961/1961 [==============================] - 229s 117ms/step - loss: 0.2357 - accuracy: 0.9329 - val_loss: 0.0536 - val_accuracy: 0.9854\n",
      "Epoch 4/15\n",
      "1961/1961 [==============================] - 220s 112ms/step - loss: 0.2202 - accuracy: 0.9400 - val_loss: 0.0416 - val_accuracy: 0.9870\n",
      "Epoch 5/15\n",
      "1961/1961 [==============================] - 213s 108ms/step - loss: 0.2215 - accuracy: 0.9421 - val_loss: 0.0381 - val_accuracy: 0.9892\n",
      "Epoch 6/15\n",
      "1961/1961 [==============================] - 223s 113ms/step - loss: 0.2122 - accuracy: 0.9440 - val_loss: 0.0328 - val_accuracy: 0.9906\n",
      "Epoch 7/15\n",
      "1961/1961 [==============================] - 227s 116ms/step - loss: 0.2113 - accuracy: 0.9462 - val_loss: 0.0445 - val_accuracy: 0.9860\n",
      "Epoch 8/15\n",
      "1961/1961 [==============================] - 227s 116ms/step - loss: 0.2107 - accuracy: 0.9462 - val_loss: 0.0441 - val_accuracy: 0.9890\n",
      "Epoch 9/15\n",
      "1961/1961 [==============================] - 225s 115ms/step - loss: 0.2196 - accuracy: 0.9452 - val_loss: 0.0416 - val_accuracy: 0.9889\n",
      "Epoch 10/15\n",
      "1961/1961 [==============================] - 5949s 3s/step - loss: 0.2245 - accuracy: 0.9463 - val_loss: 0.0313 - val_accuracy: 0.9919\n",
      "Epoch 11/15\n",
      "1961/1961 [==============================] - 224s 114ms/step - loss: 0.2265 - accuracy: 0.9461 - val_loss: 0.0202 - val_accuracy: 0.9941\n",
      "Epoch 12/15\n",
      "1961/1961 [==============================] - 227s 116ms/step - loss: 0.1946 - accuracy: 0.9521 - val_loss: 0.0272 - val_accuracy: 0.9924\n",
      "Epoch 13/15\n",
      "1961/1961 [==============================] - 225s 115ms/step - loss: 0.2265 - accuracy: 0.9473 - val_loss: 0.0523 - val_accuracy: 0.9860\n",
      "Epoch 14/15\n",
      "1961/1961 [==============================] - 224s 114ms/step - loss: 0.2140 - accuracy: 0.9505 - val_loss: 0.0349 - val_accuracy: 0.9895\n",
      "Epoch 15/15\n",
      "1961/1961 [==============================] - 2717s 1s/step - loss: 0.2152 - accuracy: 0.9510 - val_loss: 0.0369 - val_accuracy: 0.9883\n"
     ]
    }
   ],
   "source": [
    "#Compilation of the model\n",
    "model.compile(loss='categorical_crossentropy', optimizer='adam', metrics=['accuracy'])\n",
    "\n",
    "epochs = 15\n",
    "history = model.fit(X_train, y_train, batch_size=32, epochs=epochs, validation_data=(X_test, y_test))\n",
    "model.save(\"road_sign.h5\")"
   ]
  },
  {
   "cell_type": "markdown",
   "id": "efb26850",
   "metadata": {},
   "source": [
    "# Visualize Training"
   ]
  },
  {
   "cell_type": "code",
   "execution_count": 12,
   "id": "73907d85",
   "metadata": {},
   "outputs": [
    {
     "data": {
      "image/png": "[encoded data removed]",
      "text/plain": [
       "<Figure size 432x288 with 1 Axes>"
      ]
     },
     "metadata": {
      "needs_background": "light"
     },
     "output_type": "display_data"
    },
    {
     "data": {
      "image/png": "[encoded data removed]",
      "text/plain": [
       "<Figure size 432x288 with 1 Axes>"
      ]
     },
     "metadata": {
      "needs_background": "light"
     },
     "output_type": "display_data"
    }
   ],
   "source": [
    "#Accuracy graph\n",
    "plt.figure(0)\n",
    "plt.plot(history.history['accuracy'], label='train accuracy')\n",
    "plt.plot(history.history['val_accuracy'], label='val accuracy')\n",
    "plt.title('Accuracy')\n",
    "plt.xlabel('epochs')\n",
    "plt.ylabel('accuracy')\n",
    "plt.legend()\n",
    "plt.show()\n",
    "\n",
    "#Loss graph\n",
    "plt.figure(1)\n",
    "plt.plot(history.history['loss'], label='train loss')\n",
    "plt.plot(history.history['val_loss'], label='val loss')\n",
    "plt.title('Loss')\n",
    "plt.xlabel('epochs')\n",
    "plt.ylabel('loss')\n",
    "plt.legend()\n",
    "plt.show()"
   ]
  },
  {
   "cell_type": "markdown",
   "id": "1d444050",
   "metadata": {},
   "source": [
    "# Test with Testing Datasets"
   ]
  },
  {
   "cell_type": "code",
   "execution_count": 21,
   "id": "9566a4f0",
   "metadata": {},
   "outputs": [],
   "source": [
    "#Accuracy on test dataset\n",
    "y_test = pd.read_csv('Test.csv')\n",
    "labels = y_test[\"ClassId\"].values\n",
    "imgs = y_test[\"Path\"].values\n",
    "# print(imgs)\n",
    "data=[]\n",
    "for img in imgs:\n",
    "    image = Image.open(img)\n",
    "    image = image.resize((30,30))\n",
    "    data.append(np.array(image))\n",
    "X_test=np.array(data)\n",
    "# pred = model.predict_classes(X_test)\n",
    "\n",
    "predict_x=model.predict(X_test) \n",
    "pred=np.argmax(predict_x,axis=1)"
   ]
  },
  {
   "cell_type": "code",
   "execution_count": 22,
   "id": "09025ba0",
   "metadata": {},
   "outputs": [
    {
     "name": "stdout",
     "output_type": "stream",
     "text": [
      "0.9536817102137767\n"
     ]
    }
   ],
   "source": [
    "#Accuracy with the test data\n",
    "from sklearn.metrics import accuracy_score\n",
    "print(accuracy_score(labels, pred))\n",
    "model.save('road_sign.h5')"
   ]
  },
  {
   "cell_type": "markdown",
   "id": "d39614f4",
   "metadata": {},
   "source": [
    "# Try with any images"
   ]
  },
  {
   "cell_type": "code",
   "execution_count": 27,
   "id": "bf0d8b7c",
   "metadata": {},
   "outputs": [],
   "source": [
    "sign_classes = { 1:'Speed limit (20km/h)',\n",
    "            2:'Speed limit (30km/h)', \n",
    "            3:'Speed limit (50km/h)', \n",
    "            4:'Speed limit (60km/h)', \n",
    "            5:'Speed limit (70km/h)', \n",
    "            6:'Speed limit (80km/h)', \n",
    "            7:'End of speed limit (80km/h)', \n",
    "            8:'Speed limit (100km/h)', \n",
    "            9:'Speed limit (120km/h)', \n",
    "            10:'No passing', \n",
    "            11:'No passing veh over 3.5 tons', \n",
    "            12:'Right-of-way at intersection', \n",
    "            13:'Priority road', \n",
    "            14:'Yield', \n",
    "            15:'Stop', \n",
    "            16:'No vehicles', \n",
    "            17:'Veh > 3.5 tons prohibited', \n",
    "            18:'No entry', \n",
    "            19:'General caution', \n",
    "            20:'Dangerous curve left', \n",
    "            21:'Dangerous curve right', \n",
    "            22:'Double curve', \n",
    "            23:'Bumpy road', \n",
    "            24:'Slippery road', \n",
    "            25:'Road narrows on the right', \n",
    "            26:'Road work', \n",
    "            27:'Traffic signals', \n",
    "            28:'Pedestrians', \n",
    "            29:'Children crossing', \n",
    "            30:'Bicycles crossing', \n",
    "            31:'Beware of ice/snow',\n",
    "            32:'Wild animals crossing', \n",
    "            33:'End speed + passing limits', \n",
    "            34:'Turn right ahead', \n",
    "            35:'Turn left ahead', \n",
    "            36:'Ahead only', \n",
    "            37:'Go straight or right', \n",
    "            38:'Go straight or left', \n",
    "            39:'Keep right', \n",
    "            40:'Keep left', \n",
    "            41:'Roundabout mandatory', \n",
    "            42:'End of no passing', \n",
    "            43:'End no passing veh > 3.5 tons' }"
   ]
  },
  {
   "cell_type": "code",
   "execution_count": 46,
   "id": "faa5e0d7",
   "metadata": {},
   "outputs": [
    {
     "name": "stdout",
     "output_type": "stream",
     "text": [
      "Populating the interactive namespace from numpy and matplotlib\n"
     ]
    },
    {
     "data": {
      "image/png": "[encoded data removed]",
      "text/plain": [
       "<Figure size 432x288 with 1 Axes>"
      ]
     },
     "metadata": {
      "needs_background": "light"
     },
     "output_type": "display_data"
    },
    {
     "name": "stdout",
     "output_type": "stream",
     "text": [
      "12: Priority road\n"
     ]
    }
   ],
   "source": [
    "from tensorflow import keras\n",
    "model_test = keras.models.load_model('road_sign.h5')\n",
    "\n",
    "img_path = r\"C:\\Users\\User\\Desktop\\Test_code\\Test\\00010.png\"\n",
    "image = Image.open(img_path)\n",
    "image = image.resize((30,30))\n",
    "image = np.expand_dims(image, axis=0)\n",
    "image = np.array(image)\n",
    "predict_x=model.predict(image) \n",
    "pred=np.argmax(predict_x,axis=1)[0]\n",
    "sign_name = sign_classes[pred+1]\n",
    "\n",
    "%pylab inline\n",
    "import matplotlib.pyplot as plt\n",
    "import matplotlib.image as mpimg\n",
    "img = mpimg.imread(img_path)\n",
    "imgplot = plt.imshow(img)\n",
    "plt.show()\n",
    "print(f\"{pred}: {sign_name}\")"
   ]
  },
  {
   "cell_type": "code",
   "execution_count": null,
   "id": "4b6cc957",
   "metadata": {},
   "outputs": [],
   "source": []
  }
 ],
 "metadata": {
  "kernelspec": {
   "display_name": "Python 3 (ipykernel)",
   "language": "python",
   "name": "python3"
  },
  "language_info": {
   "codemirror_mode": {
    "name": "ipython",
    "version": 3
   },
   "file_extension": ".py",
   "mimetype": "text/x-python",
   "name": "python",
   "nbconvert_exporter": "python",
   "pygments_lexer": "ipython3",
   "version": "3.9.7"
  }
 },
 "nbformat": 4,
 "nbformat_minor": 5
}
